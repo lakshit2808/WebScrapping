{
 "cells": [
  {
   "cell_type": "code",
   "execution_count": 159,
   "metadata": {},
   "outputs": [],
   "source": [
    "\"\"\"\n",
    "import requests \n",
    "from bs4 import BeautifulSoup\n",
    "\n",
    "r = requests.get(\"https://www.olx.in/items/q-property?isSearchCall=true\")\n",
    "con = r.content\n",
    "#con\n",
    "\n",
    "soup = BeautifulSoup(con ,\"html.parser\" )\n",
    "#print(soup.prettify())\n",
    "\n",
    "all = soup.find_all(\"span\" , {\"class\":\"_89yzn\"})\n",
    "#x = all[0].find(\"div\")\n",
    "\n",
    "#all[0].find(\"div\" , {\"class\" :\"css-k008qs\"} ).text.replace(\"...\" , \"\")\n",
    "\n",
    "for i in all:\n",
    "    print(i.text)\"\"\"\n"
   ]
  },
  {
   "cell_type": "code",
   "execution_count": 218,
   "metadata": {},
   "outputs": [],
   "source": [
    "import requests \n",
    "from bs4 import BeautifulSoup\n",
    "\n",
    "\n",
    "r = requests.get(\"https://housing.com/in/buy/searches/P4s6r4ue97bbdaoga\")\n",
    "con = r.content\n",
    "\n",
    "\n",
    "soup = BeautifulSoup(con ,\"html.parser\" )\n",
    "#print(soup.prettify())\n",
    "\n",
    "all = soup.find_all(\"div\" , {\"class\":\"css-yr18fa\"})\n",
    "adds = soup.find_all(\"a\" , {\"class\": \"css-fwbz9r\"})\n",
    "des = soup.find_all(\"div\" ,{\"class\":\"css-nqm4eq\"})\n",
    "conf = soup.find_all(\"div\" , {\"class\":\"css-1ty8tu4\"})\n",
    "\n",
    "l = []\n",
    "d = {}\n",
    "for i , j  , k in zip(all[0:9],adds[0:9] , des[0:9] ):\n",
    "    d[\"Price\"]=(i.text)\n",
    "    d[\"Address\"]=(j.text)\n",
    "    d[\"Description\"]=(k.text)\n",
    "    l.append(d)\n",
    " \n",
    "\n",
    "#l\n",
    "\n",
    "import pandas\n",
    "df = pandas.DataFrame(l)\n",
    "\n",
    "#df\n",
    "\n",
    "df.to_csv(\"data.csv\")\n",
    "\n"
   ]
  },
  {
   "cell_type": "code",
   "execution_count": 9,
   "metadata": {},
   "outputs": [],
   "source": [
    "import requests \n",
    "from bs4 import BeautifulSoup\n",
    "\n",
    "\n",
    "r = requests.get(\"https://hunter.io/search/chanzuckerberg.com\")\n",
    "con = r.content\n",
    "\n",
    "\n",
    "soup = BeautifulSoup(con ,\"html.parser\" )\n",
    "\n",
    "all = soup.find(\"div\" , {\"class\" : \"email-container\"})"
   ]
  },
  {
   "cell_type": "code",
   "execution_count": 12,
   "metadata": {},
   "outputs": [
    {
     "ename": "TypeError",
     "evalue": "'NoneType' object is not iterable",
     "output_type": "error",
     "traceback": [
      "\u001b[1;31m---------------------------------------------------------------------------\u001b[0m",
      "\u001b[1;31mTypeError\u001b[0m                                 Traceback (most recent call last)",
      "\u001b[1;32m<ipython-input-12-90cb4b619d35>\u001b[0m in \u001b[0;36m<module>\u001b[1;34m\u001b[0m\n\u001b[1;32m----> 1\u001b[1;33m \u001b[1;32mfor\u001b[0m \u001b[0mi\u001b[0m \u001b[1;32min\u001b[0m \u001b[0mall\u001b[0m\u001b[1;33m:\u001b[0m\u001b[1;33m\u001b[0m\u001b[1;33m\u001b[0m\u001b[0m\n\u001b[0m\u001b[0;32m      2\u001b[0m     \u001b[0mprint\u001b[0m\u001b[1;33m(\u001b[0m\u001b[0mi\u001b[0m\u001b[1;33m.\u001b[0m\u001b[0mtext\u001b[0m\u001b[1;33m)\u001b[0m\u001b[1;33m\u001b[0m\u001b[1;33m\u001b[0m\u001b[0m\n",
      "\u001b[1;31mTypeError\u001b[0m: 'NoneType' object is not iterable"
     ]
    }
   ],
   "source": []
  },
  {
   "cell_type": "code",
   "execution_count": null,
   "metadata": {},
   "outputs": [],
   "source": []
  }
 ],
 "metadata": {
  "kernelspec": {
   "display_name": "Python 3",
   "language": "python",
   "name": "python3"
  },
  "language_info": {
   "codemirror_mode": {
    "name": "ipython",
    "version": 3
   },
   "file_extension": ".py",
   "mimetype": "text/x-python",
   "name": "python",
   "nbconvert_exporter": "python",
   "pygments_lexer": "ipython3",
   "version": "3.8.5"
  }
 },
 "nbformat": 4,
 "nbformat_minor": 4
}
