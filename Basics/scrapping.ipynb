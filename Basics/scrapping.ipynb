{
 "cells": [
  {
   "cell_type": "code",
   "execution_count": null,
   "metadata": {},
   "outputs": [],
   "source": [
    "#install requests for extracting html from websites and also install bs4 i.e beautifulsoup4 it will organise the html\n",
    "import requests\n",
    "from bs4 import BeautifulSoup\n",
    "\n",
    "#requesting html from the url\n",
    "ext = requests.get(\"http://example.com/\")\n",
    "\n",
    "#printing the html\n",
    "con = ext.content\n",
    "con\n",
    "\n",
    "soup = BeautifulSoup(con , \"html.parser\")\n",
    "print(soup.prettify())\n",
    "\n",
    "# this method finds tags in html\n",
    "all = soup.find_all(\"div\")#[0].text  #here[0] extract the first tag only it is the index of the first tag and .text at the end will remove html and give text only\n",
    "#all = soup.find_all(\"p\", {\"class\":\"a\"})  # this will find sub topics in the tag\n",
    "\n",
    "all\n",
    "\n",
    "for item in all:\n",
    "    print(item.find_all(\"p\")[0].text) "
   ]
  },
  {
   "cell_type": "code",
   "execution_count": null,
   "metadata": {},
   "outputs": [],
   "source": [
    "import requests\n",
    "from bs4 import BeautifulSoup\n",
    "\n",
    "#requesting html from the url\n",
    "while True:\n",
    "    ext = requests.get(\"https://ayushiranaa.blogspot.com/2020/11/blog-post.html\")\n",
    "    con = ext.content\n",
    "\n",
    "    soup = BeautifulSoup(con , \"html.parser\")\n",
    "\n",
    "    all = soup.find_all(\"h1\")[3]\n",
    "    print(all.text)"
   ]
  },
  {
   "cell_type": "code",
   "execution_count": null,
   "metadata": {},
   "outputs": [],
   "source": []
  },
  {
   "cell_type": "code",
   "execution_count": 21,
   "metadata": {},
   "outputs": [],
   "source": [
    "import requests\n",
    "from bs4 import BeautifulSoup\n",
    "\n",
    "con = requests.get(\"https://hunter.io/search/chanzuckerberg.com\")\n",
    "cont = con.content\n",
    "\n",
    "soup = BeautifulSoup(cont, \"html.parser\")\n",
    "all = soup.find(\"div\" )"
   ]
  },
  {
   "cell_type": "code",
   "execution_count": 23,
   "metadata": {},
   "outputs": [
    {
     "data": {
      "text/plain": [
       "<div id=\"domain-name\">chanzuckerberg.com</div>"
      ]
     },
     "execution_count": 23,
     "metadata": {},
     "output_type": "execute_result"
    }
   ],
   "source": [
    "all"
   ]
  },
  {
   "cell_type": "code",
   "execution_count": null,
   "metadata": {},
   "outputs": [],
   "source": []
  }
 ],
 "metadata": {
  "kernelspec": {
   "display_name": "Python 3",
   "language": "python",
   "name": "python3"
  },
  "language_info": {
   "codemirror_mode": {
    "name": "ipython",
    "version": 3
   },
   "file_extension": ".py",
   "mimetype": "text/x-python",
   "name": "python",
   "nbconvert_exporter": "python",
   "pygments_lexer": "ipython3",
   "version": "3.8.5"
  }
 },
 "nbformat": 4,
 "nbformat_minor": 4
}
